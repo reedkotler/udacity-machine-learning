{
 "cells": [
  {
   "cell_type": "markdown",
   "metadata": {
    "deletable": true,
    "editable": true
   },
   "source": [
    "[Backround](https://tech.instacart.com/3-million-instacart-orders-open-sourced-d40d29ead6f2)"
   ]
  },
  {
   "cell_type": "markdown",
   "metadata": {
    "deletable": true,
    "editable": true
   },
   "source": [
    "TBD:  \n",
    "* What is the skipping thing?\n",
    "* Should we throw out reordering=1 during initial read?\n",
    "* Need to normalize numbers. Should keep track of mean and min/max during input\n",
    "* with ```open(\"data/products.csv\",  \"r\", encoding='utf8') as f_obj:```\n",
    "* for now we ignore products in an order that were not reordered\n",
    "* need to add reorder number to the data as a feature. reorder number and order num are need to produce the average.\n",
    "* the size of the neural net should grow as the amount of data about the person grows.\n",
    "* should try and predict the number of orders\n",
    "    "
   ]
  },
  {
   "cell_type": "markdown",
   "metadata": {
    "deletable": true,
    "editable": true
   },
   "source": [
    "The idea here is to create data with expanded orders of individual items.\n",
    "Each item ordered will then have all the information about it, including the order it came from and all other information.\n",
    "\n",
    "The label will be if it is reordered.\n",
    "\n",
    "The network will be solved for each person individually based on their order history.\n",
    "I don't think that other peopls history will be a good indicator as to what this person ordered, unless they are already doing a good job of suggesting products they might want to buy.\n",
    "\n",
    "The names of columns will be:\n",
    "* product_id\n",
    "* aisle_id\n",
    "* department_id\n",
    "* add_to_cart_order (not used for now)\n",
    "* order_id  (global order id)\n",
    "* user_id (not needed if just specific to user)\n",
    "* order_num (order number of that user)\n",
    "* order_dow\n",
    "* order_hour_of_day\n",
    "* days_since_prior_order  (not sure if NAN is the right mathematical value for first order.\n",
    "\n",
    "maybe infinity but will have to experiment. possibly i don't\n",
    "want to enter any past data for a non repeat order; since we\n",
    "know about the last time it was ordered.)\n",
    "                         \n",
    "\n",
    "The label is:\n",
    "* reordered\n",
    "\n",
    "Table order is an actual product order.\n",
    "\n",
    "Orders in an aggregate, i.e. one or more items being ordered at the same time.\n",
    "\n",
    "We will test these one at a time. For every set associated with an orders element, we will\n",
    "create all the ones for products that person has every ordered and make it fail, i.e.\n",
    "the label will be false, during training.\n",
    "\n",
    "We don't really care about aisles and departments, those are just\n",
    "the ascii names for the ids.\n"
   ]
  },
  {
   "cell_type": "code",
   "execution_count": null,
   "metadata": {
    "collapsed": true,
    "deletable": true,
    "editable": true
   },
   "outputs": [],
   "source": [
    "import pandas as pd\n",
    "import numpy as np\n",
    "import time"
   ]
  },
  {
   "cell_type": "code",
   "execution_count": null,
   "metadata": {
    "collapsed": false,
    "deletable": true,
    "editable": true
   },
   "outputs": [],
   "source": [
    "start = time.time()\n",
    "end = time.time()\n",
    "print('{0} seconds elapsed time '.format(end - start))"
   ]
  },
  {
   "cell_type": "code",
   "execution_count": null,
   "metadata": {
    "collapsed": false,
    "deletable": true,
    "editable": true
   },
   "outputs": [],
   "source": [
    "start = time.time()\n",
    "aisles =      pd.read_csv('data/aisles.csv')\n",
    "departments = pd.read_csv('data/departments.csv')\n",
    "order_train = pd.read_csv('data/order_products__train.csv')\n",
    "order_prior = pd.read_csv('data/order_products__prior.csv')\n",
    "products =    pd.read_csv('data/products.csv')\n",
    "orders =      pd.read_csv('data/orders.csv')\n",
    "end = time.time()\n",
    "print('{0} seconds elapsed time '.format(end - start))"
   ]
  },
  {
   "cell_type": "code",
   "execution_count": null,
   "metadata": {
    "collapsed": true,
    "deletable": true,
    "editable": true
   },
   "outputs": [],
   "source": [
    "orders_test = orders[orders.eval_set=='test']\n",
    "orders_prior = orders[orders.eval_set=='prior']\n",
    "orders_train = orders[orders.eval_set=='train']"
   ]
  },
  {
   "cell_type": "markdown",
   "metadata": {
    "deletable": true,
    "editable": true
   },
   "source": [
    "The aisle and department are all we really care about. These are used to add more information\n",
    "to the individual items ordered. Product name is not important. Well it could be if start to\n",
    "factor in words in the name, like coookie or organic. That is beyond the scope of this\n",
    "notebook."
   ]
  },
  {
   "cell_type": "code",
   "execution_count": null,
   "metadata": {
    "collapsed": false,
    "deletable": true,
    "editable": true
   },
   "outputs": [],
   "source": [
    "orders_train.head()\n"
   ]
  },
  {
   "cell_type": "code",
   "execution_count": null,
   "metadata": {
    "collapsed": false,
    "deletable": true,
    "editable": true
   },
   "outputs": [],
   "source": [
    "orders_prior[orders_prior.user_id ==1]"
   ]
  },
  {
   "cell_type": "code",
   "execution_count": null,
   "metadata": {
    "collapsed": false,
    "deletable": true,
    "editable": true
   },
   "outputs": [],
   "source": [
    "display(order_prior[order_prior.order_id==2539329])\n",
    "display(order_prior[order_prior.order_id==2398795])\n",
    "display(order_prior[order_prior.order_id==473747])\n",
    "display(order_prior[order_prior.order_id==2254736])\n",
    "display(order_prior[order_prior.order_id==431534])\n",
    "display(order_prior[order_prior.order_id==3367565])\n",
    "display(order_prior[order_prior.order_id==550135])\n",
    "display(order_prior[order_prior.order_id==3108588])\n",
    "display(order_prior[order_prior.order_id==2295261])\n",
    "display(order_prior[order_prior.order_id==2550362])\n"
   ]
  },
  {
   "cell_type": "code",
   "execution_count": null,
   "metadata": {
    "collapsed": false,
    "deletable": true,
    "editable": true
   },
   "outputs": [],
   "source": [
    "import csv\n",
    "start = time.time()\n",
    "f_products = dict()\n",
    "with open(\"data/products.csv\",  \"r\", encoding='utf8') as f_obj:\n",
    "    reader = csv.reader(f_obj)\n",
    "    print (next(reader))\n",
    "    for row in reader:\n",
    "        product_id = int(row[0])\n",
    "        x = [int(row[2]), int(row[3])]\n",
    "        f_products[product_id] = x\n",
    "end = time.time()\n",
    "print('{0} seconds elapsed time '.format(end - start))\n",
    "print (len(f_products))"
   ]
  },
  {
   "cell_type": "code",
   "execution_count": null,
   "metadata": {
    "collapsed": false,
    "deletable": true,
    "editable": true
   },
   "outputs": [],
   "source": [
    "products.head(5)"
   ]
  },
  {
   "cell_type": "code",
   "execution_count": null,
   "metadata": {
    "collapsed": false,
    "deletable": true,
    "editable": true
   },
   "outputs": [],
   "source": [
    "for i in range(5):\n",
    "    print (f_products[i+1])"
   ]
  },
  {
   "cell_type": "code",
   "execution_count": null,
   "metadata": {
    "collapsed": true,
    "deletable": true,
    "editable": true
   },
   "outputs": [],
   "source": [
    "def f_order_order_id(x):\n",
    "    return x[0]\n",
    "def f_order_product_id(x):\n",
    "    return x[1]\n",
    "def f_order_aisle_id(x):\n",
    "    return x[2]\n",
    "def f_order_department_id(x):\n",
    "    return x[3]\n",
    "def f_order_reordered(x):\n",
    "    return x[4]"
   ]
  },
  {
   "cell_type": "markdown",
   "metadata": {
    "deletable": true,
    "editable": true
   },
   "source": [
    "We dont care about which order in the cart it was. It's possible that aisle and department matter so we add those in. Maybe the person tends to order more from certain departments."
   ]
  },
  {
   "cell_type": "code",
   "execution_count": null,
   "metadata": {
    "collapsed": false,
    "deletable": true,
    "editable": true
   },
   "outputs": [],
   "source": [
    "import csv\n",
    "start = time.time()\n",
    "f_order_train = list()\n",
    "with open(\"data/order_products__train.csv\", \"r\", encoding='utf8') as f_obj:\n",
    "    reader = csv.reader(f_obj)\n",
    "    print (next(reader))\n",
    "    for row in reader:\n",
    "        reordered = int(row[3])\n",
    "        if (reordered == 0):\n",
    "            continue\n",
    "        product_id = int(row[1])\n",
    "        product_loc = f_products[product_id] \n",
    "        x = [int(row[0]), int(row[1]), product_loc[0],\n",
    "             product_loc[1], int(row[3])]\n",
    "        f_order_train.append(x)\n",
    "end = time.time()\n",
    "print('{0} seconds elapsed time '.format(end - start))\n",
    "print ('{0} order_train records'.format(len(f_order_train)))"
   ]
  },
  {
   "cell_type": "code",
   "execution_count": null,
   "metadata": {
    "collapsed": false,
    "deletable": true,
    "editable": true
   },
   "outputs": [],
   "source": [
    "for ix in range(5):\n",
    "    x = f_order_train[ix]\n",
    "    print (x, f_order_order_id(x), f_order_product_id(x), f_order_reordered(x))\n",
    "    display (products[products.product_id == f_order_product_id(x)])"
   ]
  },
  {
   "cell_type": "code",
   "execution_count": null,
   "metadata": {
    "collapsed": false,
    "deletable": true,
    "editable": true
   },
   "outputs": [],
   "source": [
    "order_train.head(5)"
   ]
  },
  {
   "cell_type": "code",
   "execution_count": null,
   "metadata": {
    "collapsed": false,
    "deletable": true,
    "editable": true
   },
   "outputs": [],
   "source": [
    "import csv\n",
    "start = time.time()\n",
    "f_order_prior = list()\n",
    "with open(\"data/order_products__prior.csv\", \"r\", encoding='utf8') as f_obj:\n",
    "    reader = csv.reader(f_obj)\n",
    "    print (next(reader))\n",
    "    for row in reader:\n",
    "        product_id = int(row[1])\n",
    "        reordered = int(row[3])\n",
    "        if (reordered == 0):\n",
    "            continue\n",
    "        product_loc = f_products[product_id] \n",
    "        x = [int(row[0]), int(row[1]), product_loc[0],\n",
    "             product_loc[1], int(row[3])]\n",
    "\n",
    "        f_order_prior.append(x)\n",
    "end = time.time()\n",
    "print('{0} seconds elapsed time '.format(end - start))\n",
    "print ('{0} order_train records'.format(len(f_order_prior)))"
   ]
  },
  {
   "cell_type": "code",
   "execution_count": null,
   "metadata": {
    "collapsed": false,
    "deletable": true,
    "editable": true
   },
   "outputs": [],
   "source": [
    "for ix in range(5):\n",
    "    x = f_order_prior[ix]\n",
    "    print (x, f_order_order_id(x), f_order_product_id(x), f_order_reordered(x))\n",
    "    display (products[products.product_id == f_order_product_id(x)])"
   ]
  },
  {
   "cell_type": "markdown",
   "metadata": {
    "deletable": true,
    "editable": true
   },
   "source": [
    "The meaning of fields in aisles are self explanatory."
   ]
  },
  {
   "cell_type": "code",
   "execution_count": null,
   "metadata": {
    "collapsed": false,
    "deletable": true,
    "editable": true
   },
   "outputs": [],
   "source": [
    "order_prior.head(5)"
   ]
  },
  {
   "cell_type": "markdown",
   "metadata": {
    "deletable": true,
    "editable": true
   },
   "source": [
    "The meaning of fields in departments are self explanatory."
   ]
  },
  {
   "cell_type": "markdown",
   "metadata": {
    "deletable": true,
    "editable": true
   },
   "source": [
    "The meaning of fields in products are self explanatory."
   ]
  },
  {
   "cell_type": "markdown",
   "metadata": {
    "deletable": true,
    "editable": true
   },
   "source": [
    "Order_train and order_prior have a slightly non intuitive structure. Each order has a set of \n",
    "products. For each product we are also given which order it appears in the cart as well as if \n",
    "that customer has ordered the product before. The order which it appears may indicate how they went through the aisles. These are essentially descriptions of a cart. Prior seems to be orders prior to those in the supplied training set. In other words, those are being used to to predict order_train."
   ]
  },
  {
   "cell_type": "markdown",
   "metadata": {
    "deletable": true,
    "editable": true
   },
   "source": [
    "For this solution, add_to_cart_order is not needed and so it's better to just get rid of it here to avoid complications later"
   ]
  },
  {
   "cell_type": "markdown",
   "metadata": {
    "deletable": true,
    "editable": true
   },
   "source": [
    "The order carts have been divided into two tables, the order_train and order_prio."
   ]
  },
  {
   "cell_type": "code",
   "execution_count": null,
   "metadata": {
    "collapsed": true,
    "deletable": true,
    "editable": true
   },
   "outputs": [],
   "source": [
    "def orders_order_id(x):\n",
    "    return x[0]\n",
    "def orders_user_id(x):\n",
    "    return x[1]\n",
    "def orders_eval_set(x):\n",
    "    return x[2]"
   ]
  },
  {
   "cell_type": "code",
   "execution_count": null,
   "metadata": {
    "collapsed": false,
    "deletable": true,
    "editable": true
   },
   "outputs": [],
   "source": [
    "# we ignore records with no days_since_prior_order for now\n",
    "# it might make sense to make it equal to the one more than the largest\n",
    "# one found so tha we can normalize the numbers and not have that one be like\n",
    "# some outlier anomoly\n",
    "#\n",
    "import csv\n",
    "start = time.time()\n",
    "f_orders = list()\n",
    "f_prior_orders = list()\n",
    "f_train_orders = list()\n",
    "f_test_orders = list()\n",
    "with open(\"data/orders.csv\", \"r\", encoding='utf8') as f_obj:\n",
    "    reader = csv.reader(f_obj)\n",
    "    print (next(reader))\n",
    "    for row in reader:\n",
    "        if (row[6] == ''):\n",
    "            None # no value so we ignore it.\n",
    "        else:\n",
    "            x = [int(row[0]), int(row[1]), row[2], int(row[3]), int(row[4]), int(row[5]),\n",
    "                 float(row[6])]\n",
    "            f_orders.append(x)\n",
    "            eval_set = row[2]\n",
    "            if eval_set == 'train':\n",
    "                f_train_orders.append(x)\n",
    "            elif eval_set == \"prior\":\n",
    "                f_prior_orders.append(x)\n",
    "            elif eval_set == \"test\":\n",
    "                f_test_orders.append(x)\n",
    "            else:\n",
    "                print(\"SOMETHING WRONG READING ORDERS.CSV\")\n",
    "end = time.time()\n",
    "print('{0} seconds elapsed time '.format(end - start))\n",
    "print (len(f_orders))\n",
    "print (len(f_prior_orders))\n",
    "print (len(f_train_orders))\n",
    "print (len(f_test_orders))\n",
    "print (len(f_orders), ' = ' , len(f_prior_orders) + len(f_train_orders) + len(f_test_orders))"
   ]
  },
  {
   "cell_type": "code",
   "execution_count": null,
   "metadata": {
    "collapsed": false,
    "deletable": true,
    "editable": true
   },
   "outputs": [],
   "source": [
    "for ix in range(5):\n",
    "    x = f_orders[ix]\n",
    "    print (x)"
   ]
  },
  {
   "cell_type": "code",
   "execution_count": null,
   "metadata": {
    "collapsed": false,
    "deletable": true,
    "editable": true
   },
   "outputs": [],
   "source": [
    "\n",
    "display (orders.head(5))\n",
    "print (len(orders))\n",
    "print (orders.dtypes)"
   ]
  },
  {
   "cell_type": "markdown",
   "metadata": {
    "deletable": true,
    "editable": true
   },
   "source": [
    "Nan for days since prior order means there have been no prior orders for that customer. This will be the case when order_number==1."
   ]
  },
  {
   "cell_type": "markdown",
   "metadata": {
    "collapsed": true,
    "deletable": true,
    "editable": true
   },
   "source": [
    "There is a general probability that a product will be reordered if it has already been ordered. For each product, you can estimate the probability of it being reordered across the population.\n",
    "\n",
    "During development, to test the algorithm we train with prior and test\n",
    "with train. During production, we train with prior and train. This way during model development we will have a set of answers to use.\n"
   ]
  },
  {
   "cell_type": "code",
   "execution_count": null,
   "metadata": {
    "collapsed": true,
    "deletable": true,
    "editable": true
   },
   "outputs": [],
   "source": [
    "def makeUserIds():\n",
    "    user_ids = set()\n",
    "    for x in f_orders:\n",
    "        user_ids.add(orders_user_id(x))\n",
    "    return user_ids"
   ]
  },
  {
   "cell_type": "code",
   "execution_count": null,
   "metadata": {
    "collapsed": true,
    "deletable": true,
    "editable": true
   },
   "outputs": [],
   "source": [
    "user_ids = makeUserIds()"
   ]
  },
  {
   "cell_type": "code",
   "execution_count": null,
   "metadata": {
    "collapsed": false,
    "deletable": true,
    "editable": true
   },
   "outputs": [],
   "source": [
    "len(user_ids)"
   ]
  },
  {
   "cell_type": "code",
   "execution_count": null,
   "metadata": {
    "collapsed": true,
    "deletable": true,
    "editable": true
   },
   "outputs": [],
   "source": [
    "def initProductsOfUser():\n",
    "    productsOfUser = dict()\n",
    "    for i in user_ids:\n",
    "        productsOfUser[i] = set()\n",
    "    return productsOfUser"
   ]
  },
  {
   "cell_type": "code",
   "execution_count": null,
   "metadata": {
    "collapsed": true,
    "deletable": true,
    "editable": true
   },
   "outputs": [],
   "source": [
    "productsOfUser = initProductsOfUser()"
   ]
  },
  {
   "cell_type": "code",
   "execution_count": null,
   "metadata": {
    "collapsed": false,
    "deletable": true,
    "editable": true
   },
   "outputs": [],
   "source": [
    "len(productsOfUser)"
   ]
  },
  {
   "cell_type": "markdown",
   "metadata": {
    "deletable": true,
    "editable": true
   },
   "source": [
    "We separately keep a list of reordered products by user, and the number of times reordered\n"
   ]
  },
  {
   "cell_type": "code",
   "execution_count": null,
   "metadata": {
    "collapsed": true,
    "deletable": true,
    "editable": true
   },
   "outputs": [],
   "source": [
    "def initReorderedProductsOfUser():\n",
    "    reorderedProductsOfUser = dict()\n",
    "    for i in user_ids:\n",
    "        reorderedProductsOfUser[i] = dict()\n",
    "    return reorderedProductsOfUser"
   ]
  },
  {
   "cell_type": "code",
   "execution_count": null,
   "metadata": {
    "collapsed": true,
    "deletable": true,
    "editable": true
   },
   "outputs": [],
   "source": [
    "reorderedProductsOfUser = initReorderedProductsOfUser()"
   ]
  },
  {
   "cell_type": "code",
   "execution_count": null,
   "metadata": {
    "collapsed": false,
    "deletable": true,
    "editable": true
   },
   "outputs": [],
   "source": [
    "len(reorderedProductsOfUser)"
   ]
  },
  {
   "cell_type": "markdown",
   "metadata": {
    "deletable": true,
    "editable": true
   },
   "source": [
    "# Good place to start from"
   ]
  },
  {
   "cell_type": "markdown",
   "metadata": {
    "deletable": true,
    "editable": true
   },
   "source": [
    "When we are in development mode, then we use the training set to develop the algorithm. When we move to production mode, use the entire train+prior orders to develop the model. Possibly we should always train with the training set. TBD....."
   ]
  },
  {
   "cell_type": "code",
   "execution_count": null,
   "metadata": {
    "collapsed": true,
    "deletable": true,
    "editable": true
   },
   "outputs": [],
   "source": [
    "development = False\n",
    "if development:\n",
    "    f_test_orders = f_train_orders\n",
    "    f_orders = f_prior_orders\n",
    "    f_test_order = f_order_train\n",
    "    \n",
    "    test_orders = train_orders\n",
    "    orders = prior_orders\n",
    "    test_order = order_train\n",
    "    display(test_orders.head(5))\n",
    "    display(test_order.head(5))"
   ]
  },
  {
   "cell_type": "markdown",
   "metadata": {
    "deletable": true,
    "editable": true
   },
   "source": [
    "we calculate the number of orders from each user. For now prior + training"
   ]
  },
  {
   "cell_type": "code",
   "execution_count": null,
   "metadata": {
    "collapsed": true,
    "deletable": true,
    "editable": true
   },
   "outputs": [],
   "source": [
    "num_times_ordered = dict()\n",
    "for order in f_orders:\n",
    "    user_id = orders_user_id(order)\n",
    "    if user_id not in num_times_ordered:\n",
    "        num_times_ordered[user_id] = 1\n",
    "    else:\n",
    "        num_times_ordered[user_id] = num_times_ordered[user_id] + 1\n",
    "     "
   ]
  },
  {
   "cell_type": "code",
   "execution_count": null,
   "metadata": {
    "collapsed": true,
    "deletable": true,
    "editable": true
   },
   "outputs": [],
   "source": [
    "num_times_ordered_prior = dict()\n",
    "for order in f_orders:\n",
    "    user_id = orders_user_id(order)\n",
    "    eval_set = orders_eval_set(order)\n",
    "    if eval_set != 'prior':\n",
    "        continue\n",
    "    if user_id not in num_times_ordered_prior:\n",
    "        num_times_ordered_prior[user_id] = 1\n",
    "    else:\n",
    "        num_times_ordered_prior[user_id] = num_times_ordered_prior[user_id] + 1\n",
    "\n"
   ]
  },
  {
   "cell_type": "code",
   "execution_count": null,
   "metadata": {
    "collapsed": false,
    "deletable": true,
    "editable": true
   },
   "outputs": [],
   "source": [
    "len(num_times_ordered_prior)\n",
    "print(num_times_ordered_prior[1], num_times_ordered[1])\n"
   ]
  },
  {
   "cell_type": "markdown",
   "metadata": {
    "deletable": true,
    "editable": true
   },
   "source": [
    "We only do non test orders"
   ]
  },
  {
   "cell_type": "code",
   "execution_count": null,
   "metadata": {
    "collapsed": false,
    "deletable": true,
    "editable": true
   },
   "outputs": [],
   "source": [
    "len(num_times_ordered)"
   ]
  },
  {
   "cell_type": "code",
   "execution_count": null,
   "metadata": {
    "collapsed": true,
    "deletable": true,
    "editable": true
   },
   "outputs": [],
   "source": [
    "def f_makeOrdersOfUser():\n",
    "    orders_of_user = dict()\n",
    "    user_of_orders = dict()\n",
    "    orders_info = dict()\n",
    "    for u in user_ids:\n",
    "        orders_of_user[u] = list()\n",
    "    for x in f_orders:\n",
    "        #display(row)\n",
    "        if x[2] != 'test':\n",
    "            x_ = [x[0], x[1], x[3], x[4], x[5], x[6]]\n",
    "            user_id = orders_user_id(x)\n",
    "            order_id = orders_order_id(x)\n",
    "            user_of_orders[order_id] = user_id\n",
    "            orders_of_user[user_id].append(x_)\n",
    "            orders_info[order_id] = x_\n",
    "    return orders_of_user, user_of_orders, orders_info"
   ]
  },
  {
   "cell_type": "code",
   "execution_count": null,
   "metadata": {
    "collapsed": false,
    "deletable": true,
    "editable": true
   },
   "outputs": [],
   "source": [
    "start = time.time()\n",
    "orders_of_user, user_of_orders, orders_info = f_makeOrdersOfUser()\n",
    "end = time.time()\n",
    "print('{0} seconds elapsed time '.format(end - start))\n",
    "print(orders_info[157550])"
   ]
  },
  {
   "cell_type": "code",
   "execution_count": null,
   "metadata": {
    "collapsed": false,
    "deletable": true,
    "editable": true
   },
   "outputs": [],
   "source": [
    "print(len(orders_of_user), len(user_of_orders))\n",
    "orders_of_user[20]"
   ]
  },
  {
   "cell_type": "markdown",
   "metadata": {
    "deletable": true,
    "editable": true
   },
   "source": [
    "For now, we train with the whole dataaset and use the robots for test.\n"
   ]
  },
  {
   "cell_type": "code",
   "execution_count": null,
   "metadata": {
    "collapsed": false,
    "deletable": true,
    "editable": true
   },
   "outputs": [],
   "source": [
    "order_group = dict()\n",
    "f_order_prior[1]"
   ]
  },
  {
   "cell_type": "code",
   "execution_count": null,
   "metadata": {
    "collapsed": true,
    "deletable": true,
    "editable": true
   },
   "outputs": [],
   "source": [
    "productProbabilityOfUser = dict()\n",
    "for u in user_ids:\n",
    "    productProbabilityOfUser[u] = dict()"
   ]
  },
  {
   "cell_type": "code",
   "execution_count": null,
   "metadata": {
    "collapsed": true,
    "deletable": true,
    "editable": true
   },
   "outputs": [],
   "source": [
    "productProbabilityOfUserPrior = dict()\n",
    "for u in user_ids:\n",
    "    productProbabilityOfUserPrior[u] = dict()"
   ]
  },
  {
   "cell_type": "code",
   "execution_count": null,
   "metadata": {
    "collapsed": true,
    "deletable": true,
    "editable": true
   },
   "outputs": [],
   "source": [
    "def makeProductsOfUser():\n",
    "    num_skipped = 0\n",
    "    for x in f_order_prior:\n",
    "        #display(row)\n",
    "        #print(x)\n",
    "        order_id = f_order_order_id(x)\n",
    "        if order_id in order_group:\n",
    "            order_group[order_id].append(x)\n",
    "        else:\n",
    "            order_group[order_id] = [x]\n",
    "        if not order_id in user_of_orders:\n",
    "            num_skipped = num_skipped + 1\n",
    "            continue\n",
    "        user_id = user_of_orders[order_id]\n",
    "        productsOfUser[user_id].add(f_order_product_id(x))\n",
    "    for x in f_order_train:\n",
    "        #display(row)\n",
    "        order_id = f_order_order_id(x)\n",
    "        if order_id in order_group:\n",
    "            order_group[order_id].append(x)\n",
    "        else:\n",
    "            order_group[order_id] = [x]\n",
    "        if not order_id in user_of_orders:\n",
    "            num_skipped = num_skipped + 1\n",
    "            continue\n",
    "        user_id = user_of_orders[order_id]\n",
    "        productsOfUser[user_id].add(f_order_product_id(x))\n",
    "    print(\"num skiped: \", num_skipped)"
   ]
  },
  {
   "cell_type": "code",
   "execution_count": null,
   "metadata": {
    "collapsed": true,
    "deletable": true,
    "editable": true
   },
   "outputs": [],
   "source": [
    "def makeProductsProbabilityOfUser():\n",
    "    num_skipped = 0\n",
    "    for x in f_order_prior:\n",
    "        #display(row)\n",
    "        #print(x)\n",
    "        order_id = f_order_order_id(x)\n",
    "        user_id = user_of_orders[order_id]\n",
    "        product_id = f_order_product_id(x)\n",
    "        num_times = num_times_ordered[user_id]\n",
    "        num_times_inv = 1.0 / num_times\n",
    "        if product_id in productProbabilityOfUser[user_id]:\n",
    "            productProbabilityOfUser[user_id][product_id] = productProbabilityOfUser[user_id][product_id] + num_times_inv\n",
    "        else:\n",
    "            productProbabilityOfUser[user_id][product_id] = num_times_inv\n",
    "    for x in f_order_train:\n",
    "        #display(row)\n",
    "        #print(x)\n",
    "        order_id = f_order_order_id(x)\n",
    "        user_id = user_of_orders[order_id]\n",
    "        product_id = f_order_product_id(x)\n",
    "        num_times = num_times_ordered[user_id]\n",
    "        num_times_inv = 1.0 / num_times\n",
    "        if product_id in productProbabilityOfUser[user_id]:\n",
    "            productProbabilityOfUser[user_id][product_id] = productProbabilityOfUser[user_id][product_id] + num_times_inv\n",
    "        else:\n",
    "            productProbabilityOfUser[user_id][product_id] = num_times_inv"
   ]
  },
  {
   "cell_type": "code",
   "execution_count": null,
   "metadata": {
    "collapsed": true,
    "deletable": true,
    "editable": true
   },
   "outputs": [],
   "source": [
    "def makeProductsProbabilityOfUserPrior():\n",
    "    num_skipped = 0\n",
    "    for x in f_order_prior:\n",
    "        #display(row)\n",
    "        #print(x)\n",
    "        order_id = f_order_order_id(x)\n",
    "        user_id = user_of_orders[order_id]\n",
    "        product_id = f_order_product_id(x)\n",
    "        num_times = num_times_ordered_prior[user_id]\n",
    "        num_times_inv = 1.0 / num_times\n",
    "        if product_id in productProbabilityOfUserPrior[user_id]:\n",
    "            productProbabilityOfUserPrior[user_id][product_id] = productProbabilityOfUserPrior[user_id][product_id] + num_times_inv\n",
    "        else:\n",
    "            productProbabilityOfUserPrior[user_id][product_id] = num_times_inv\n",
    " "
   ]
  },
  {
   "cell_type": "code",
   "execution_count": null,
   "metadata": {
    "collapsed": false,
    "deletable": true,
    "editable": true
   },
   "outputs": [],
   "source": [
    "start = time.time()\n",
    "makeProductsOfUser()\n",
    "end = time.time()\n",
    "print(end - start)"
   ]
  },
  {
   "cell_type": "code",
   "execution_count": null,
   "metadata": {
    "collapsed": false,
    "deletable": true,
    "editable": true
   },
   "outputs": [],
   "source": [
    "start = time.time()\n",
    "makeProductsProbabilityOfUser()\n",
    "end = time.time()\n",
    "print(end - start)"
   ]
  },
  {
   "cell_type": "code",
   "execution_count": null,
   "metadata": {
    "collapsed": false,
    "deletable": true,
    "editable": true
   },
   "outputs": [],
   "source": [
    "productProbabilityOfUser[1]"
   ]
  },
  {
   "cell_type": "code",
   "execution_count": null,
   "metadata": {
    "collapsed": false,
    "deletable": true,
    "editable": true
   },
   "outputs": [],
   "source": [
    "start = time.time()\n",
    "makeProductsProbabilityOfUserPrior()\n",
    "end = time.time()\n",
    "print(end - start)"
   ]
  },
  {
   "cell_type": "markdown",
   "metadata": {
    "deletable": true,
    "editable": true
   },
   "source": [
    "productProbabilityOfUserPrior[1]"
   ]
  },
  {
   "cell_type": "code",
   "execution_count": null,
   "metadata": {
    "collapsed": false,
    "deletable": true,
    "editable": true
   },
   "outputs": [],
   "source": [
    "len(productsOfUser)"
   ]
  },
  {
   "cell_type": "markdown",
   "metadata": {
    "deletable": true,
    "editable": true
   },
   "source": [
    "f_order_prior[12]\n"
   ]
  },
  {
   "cell_type": "code",
   "execution_count": null,
   "metadata": {
    "collapsed": false,
    "deletable": true,
    "editable": true
   },
   "outputs": [],
   "source": [
    "order_group[2398795]"
   ]
  },
  {
   "cell_type": "code",
   "execution_count": null,
   "metadata": {
    "collapsed": true,
    "deletable": true,
    "editable": true
   },
   "outputs": [],
   "source": [
    "def f_allOrdersOfUser(user_id):\n",
    "    return orders_of_user[user_id]"
   ]
  },
  {
   "cell_type": "code",
   "execution_count": null,
   "metadata": {
    "collapsed": true,
    "deletable": true,
    "editable": true
   },
   "outputs": [],
   "source": [
    "def f_allOrderOfOrdersReordered(order_id):\n",
    "    result = list()\n",
    "    if order_id not in order_group:\n",
    "        return result\n",
    "    for x in order_group[order_id]:\n",
    "        if x[len(x)-1] == 1:\n",
    "            result.append(x)\n",
    "    return result"
   ]
  },
  {
   "cell_type": "code",
   "execution_count": null,
   "metadata": {
    "collapsed": false,
    "deletable": true,
    "editable": true,
    "scrolled": true
   },
   "outputs": [],
   "source": [
    "f_allOrderOfOrdersReordered(2398795)"
   ]
  },
  {
   "cell_type": "markdown",
   "metadata": {
    "deletable": true,
    "editable": true
   },
   "source": [
    "Figure out avergage number of orders per user"
   ]
  },
  {
   "cell_type": "code",
   "execution_count": null,
   "metadata": {
    "collapsed": false,
    "deletable": true,
    "editable": true
   },
   "outputs": [],
   "source": [
    "round(0.51)"
   ]
  },
  {
   "cell_type": "code",
   "execution_count": null,
   "metadata": {
    "collapsed": false,
    "deletable": true,
    "editable": true
   },
   "outputs": [],
   "source": [
    "average_num_reorders_per = dict()\n",
    "for u in user_ids:\n",
    "    num_orders = 0.0;\n",
    "    num_products_ordered = 0.0;\n",
    "    for order in f_allOrdersOfUser(u):\n",
    "        num_orders = num_orders + 1\n",
    "        for prec in f_allOrderOfOrdersReordered(order[0]):\n",
    "            num_products_ordered = num_products_ordered + 1\n",
    "    if num_orders > 0:\n",
    "        average = round(num_products_ordered / num_orders)\n",
    "    else:\n",
    "        average = 0\n",
    "    average_num_reorders_per[u] = average\n",
    "    print (average)"
   ]
  },
  {
   "cell_type": "code",
   "execution_count": null,
   "metadata": {
    "collapsed": true,
    "deletable": true,
    "editable": true
   },
   "outputs": [],
   "source": [
    "def f_productIdList(ogroup):\n",
    "    result = list()\n",
    "    for o in ogroup:\n",
    "        result.append(o[1])\n",
    "    return result"
   ]
  },
  {
   "cell_type": "code",
   "execution_count": null,
   "metadata": {
    "collapsed": true,
    "deletable": true,
    "editable": true
   },
   "outputs": [],
   "source": [
    "def f_makeOneOrder(order_id, product_id, reordered):\n",
    "    ploc = f_products[product_id]\n",
    "    return [order_id, product_id, ploc[0], ploc[1], reordered]"
   ]
  },
  {
   "cell_type": "code",
   "execution_count": null,
   "metadata": {
    "collapsed": false,
    "deletable": true,
    "editable": true
   },
   "outputs": [],
   "source": [
    "f_makeOneOrder(22,23909, 1)"
   ]
  },
  {
   "cell_type": "code",
   "execution_count": null,
   "metadata": {
    "collapsed": true,
    "deletable": true,
    "editable": true
   },
   "outputs": [],
   "source": [
    "def f_makeMultipleOrder(order_id, product_id_list, reordered):\n",
    "    result = list()\n",
    "    for o in product_id_list:\n",
    "       result.append(f_makeOneOrder(order_id, o, reordered))\n",
    "    return result"
   ]
  },
  {
   "cell_type": "code",
   "execution_count": null,
   "metadata": {
    "collapsed": false,
    "deletable": true,
    "editable": true
   },
   "outputs": [],
   "source": [
    "f_makeMultipleOrder(22, [23909, 22754], 0)"
   ]
  },
  {
   "cell_type": "code",
   "execution_count": null,
   "metadata": {
    "collapsed": true,
    "deletable": true,
    "editable": true
   },
   "outputs": [],
   "source": [
    "def allProductsUser(user_id):\n",
    "    return productsOfUser[user_id]"
   ]
  },
  {
   "cell_type": "code",
   "execution_count": null,
   "metadata": {
    "collapsed": false,
    "deletable": true,
    "editable": true
   },
   "outputs": [],
   "source": [
    "allProductsUser(1)"
   ]
  },
  {
   "cell_type": "markdown",
   "metadata": {
    "deletable": true,
    "editable": true
   },
   "source": [
    "We need to make all the order records now. This means making ones that use the other products that this person orders but we know that he did not reorder them at that time.\n",
    "For each order of a user, we need to see what products had a repeat order and then add a no repeat order for all other products that they have ordered.\n",
    "\n",
    "Can add another column ordered so we can record if the product was ordered at all as opposed to both not ordered and not reordered\n",
    "\n",
    "For each of orders, we need data for all the other things this use might reorder.\n",
    "\n",
    "We probably need another decision net for products that have never been reordered.\n",
    "\n",
    "For now we are using the whole data set for training.\n",
    "\n",
    "We do this all one user at a time for now.\n"
   ]
  },
  {
   "cell_type": "code",
   "execution_count": null,
   "metadata": {
    "collapsed": true,
    "deletable": true,
    "editable": true
   },
   "outputs": [],
   "source": [
    "enable_randomList = True"
   ]
  },
  {
   "cell_type": "code",
   "execution_count": null,
   "metadata": {
    "collapsed": true,
    "deletable": true,
    "editable": true
   },
   "outputs": [],
   "source": [
    "#We want to be able to chose maxNum items from a list of products\n",
    "# if we have less than maxNum items then can return the original list\n",
    "# ditto for =0 which is just a special case to do nothing and return\n",
    "# the original list\n",
    "#\n",
    "import random \n",
    "def randomList(l, maxNum ):\n",
    "    return set(l)\n",
    "    l_ = list()\n",
    "    #print(\"l: \", l)\n",
    "    if enable_randomList & (len(l) > 0) & (maxNum != 0) & (maxNum < len(l)):\n",
    "        # a is guaranteed to be between 0 and 1\n",
    "         a = maxNum / len(l)  \n",
    "         for i in l:\n",
    "             if random.random() < a:\n",
    "                 l_.append(i)\n",
    "         l = l_\n",
    "    #print(\"l_: \" , l_)                     \n",
    "    lSet = set(l)\n",
    "    return lSet\n",
    "                         \n",
    "# we go through all the orders or a user, and look at the products\n",
    "# reordered. we know that at that time, all other products that the person\n",
    "# has ordered were not reordered. We could use that whole list, but it\n",
    "# can be large so we randomly select a subset of that which has the same\n",
    "# cardinality of what was ordered\n",
    "#\n"
   ]
  },
  {
   "cell_type": "code",
   "execution_count": null,
   "metadata": {
    "collapsed": true,
    "deletable": true,
    "editable": true
   },
   "outputs": [],
   "source": [
    "def f_makeNonReorder(user_id, maxNum = 0):\n",
    "    allP = list(allProductsUser(user_id))\n",
    "    # for each order set for the user, we go through the individal orders\n",
    "    # and add all the negatives for any not there as recurring.\n",
    "    #\n",
    "    x = f_allOrdersOfUser(user_id)\n",
    "    result = list()\n",
    "    for o in x:\n",
    "        oo = f_allOrderOfOrdersReordered(o[0])\n",
    "        p = f_productIdList(oo)\n",
    "        allPSet = set(randomList(allP, len(p)))\n",
    "        butP = allPSet.difference(set(p))\n",
    "        result.extend(f_makeMultipleOrder(o[0], butP, 0))\n",
    "    return result"
   ]
  },
  {
   "cell_type": "code",
   "execution_count": null,
   "metadata": {
    "collapsed": true,
    "deletable": true,
    "editable": true,
    "scrolled": true
   },
   "outputs": [],
   "source": [
    "x = f_makeNonReorder(1)\n"
   ]
  },
  {
   "cell_type": "code",
   "execution_count": null,
   "metadata": {
    "collapsed": true,
    "deletable": true,
    "editable": true
   },
   "outputs": [],
   "source": [
    "def f_makeFullOrder(user_id):\n",
    "    x  = f_allOrdersOfUser(user_id)\n",
    "    result = list()\n",
    "    for o in x:\n",
    "        #print(o, o[0])\n",
    "        result.extend(f_allOrderOfOrdersReordered(o[0]))\n",
    "    result.extend(f_makeNonReorder(user_id))\n",
    "    return result"
   ]
  },
  {
   "cell_type": "code",
   "execution_count": null,
   "metadata": {
    "collapsed": false,
    "deletable": true,
    "editable": true
   },
   "outputs": [],
   "source": [
    "x = f_makeFullOrder(1)\n",
    "len(x)\n",
    "\n"
   ]
  },
  {
   "cell_type": "code",
   "execution_count": null,
   "metadata": {
    "collapsed": true,
    "deletable": true,
    "editable": true
   },
   "outputs": [],
   "source": [
    "train_accuracy = list()\n",
    "train_accuracy_test = list()\n",
    "train_f1 = list()\n",
    "train_f1_test = list()\n",
    "train_accuracy_mytest = list()\n",
    "train_f1_mytest = list()\n",
    "train_accuracy_blended = list()\n",
    "train_f1_blended = list()"
   ]
  },
  {
   "cell_type": "code",
   "execution_count": null,
   "metadata": {
    "collapsed": true,
    "deletable": true,
    "editable": true
   },
   "outputs": [],
   "source": [
    "def resetStats():\n",
    "    train_accuracy = list()\n",
    "    train_accuracy_test = list()\n",
    "    train_f1 = list()\n",
    "    train_f1_test = list()\n",
    "    train_accuracy_mytest = list()\n",
    "    train_f1_mytest = list()\n",
    "    train_accuracy_blended = list()\n",
    "    train_f1_blended = list()"
   ]
  },
  {
   "cell_type": "code",
   "execution_count": null,
   "metadata": {
    "collapsed": true,
    "deletable": true,
    "editable": true
   },
   "outputs": [],
   "source": [
    "def predictByUser(user_id, product_id):\n",
    "    if product_id in productProbabilityOfUser[user_id] :\n",
    "        if productProbabilityOfUser[user_id][product_id] >= 0.50:\n",
    "             return 1\n",
    "    return 0"
   ]
  },
  {
   "cell_type": "code",
   "execution_count": null,
   "metadata": {
    "collapsed": true,
    "deletable": true,
    "editable": true
   },
   "outputs": [],
   "source": [
    "def predictByUserPrior(user_id, product_id):\n",
    "    if product_id in productProbabilityOfUserPrior[user_id] :\n",
    "        if productProbabilityOfUserPrior[user_id][product_id] >= 0.50:\n",
    "             return 1\n",
    "    return 0"
   ]
  },
  {
   "cell_type": "code",
   "execution_count": null,
   "metadata": {
    "collapsed": true,
    "deletable": true,
    "editable": true
   },
   "outputs": [],
   "source": [
    "# we want to add a negative for each item in the test_list that has a positive,\n",
    "# for those that don't already have one\n",
    "def finishTestList(user_id, x, y, ypred):\n",
    "    if len(x) == 0:\n",
    "        return x,y\n",
    "    user_prods = allProductsUser(user_id)\n",
    "    prods = set()\n",
    "    newY = y\n",
    "    newYPred = ypred\n",
    "    newX = x\n",
    "    tmpl = x[0]\n",
    "    #print(\"tmpl: \", tmpl)\n",
    "    for r in x:\n",
    "        #print(r[0], int(r[0]))\n",
    "        prods.add(r[0])\n",
    "    for p in user_prods:\n",
    "        if not p in prods:\n",
    "            ploc = f_products[p]\n",
    "            tmpl_ = list(tmpl)\n",
    "            tmpl_[0] = p# float(p)\n",
    "            tmpl_[2] = ploc[0]#float(ploc[0])\n",
    "            tmpl_[3] = ploc[1]#float(ploc[1])\n",
    "            #print(\"tmpl_: \", tmpl_)\n",
    "            newX.append(tmpl_)\n",
    "            newY.append(0)\n",
    "            newYPred.append(predictByUserPrior(user_id, p))\n",
    "    #print(\"final newX: \", newX)\n",
    "    return newX, newY, newYPred"
   ]
  },
  {
   "cell_type": "markdown",
   "metadata": {
    "deletable": true,
    "editable": true
   },
   "source": [
    "order_id\tuser_id\teval_set\torder_number\torder_dow\torder_hour_of_day\tdays_since_prior_order"
   ]
  },
  {
   "cell_type": "code",
   "execution_count": null,
   "metadata": {
    "collapsed": true,
    "deletable": true,
    "editable": true
   },
   "outputs": [],
   "source": [
    "def newPredict(newOrder): \n",
    "    user_id = newOrder[1]\n",
    "    order_num = newOrder[3]\n",
    "    order_dow = newOrder[4]    \n",
    "    order_hour_of_day = newOrder[5]\n",
    "    days_since_prior = newOrder[6]\n",
    "    num_orders = num_times_ordered[user_id]\n",
    "    plist = list()\n",
    "    #print(\"new order: \", newOrder)\n",
    "    # compute average numbers of orders for a user\n",
    "    \n",
    "    for p in allProductsUser(user_id):\n",
    "        order_nums = list()\n",
    "        #print(\"one product: \", p)\n",
    "        num_p = 0.0\n",
    "        num_p_dow = 0.0\n",
    "        num_p_hour = 0.0\n",
    "        num_p_since = 0.0\n",
    "        #num_p_prev = 0.0\n",
    "        for order in f_allOrdersOfUser(user_id):\n",
    "            #print(\"one master order\")\n",
    "            order_id_ = order[0]\n",
    "            order_num_ = order[2]\n",
    "            order_dow_ = order[3]    \n",
    "            order_hour_of_day_ = order[4]\n",
    "            days_since_prior_ = order[5]\n",
    "            #print(order, this_days_since_prior_order)\n",
    "            for o in f_allOrderOfOrdersReordered(order_id_):\n",
    "                p_ = o[1]\n",
    "                if (p == p_):\n",
    "                    #print ('match: ', p_)\n",
    "                    num_p = num_p + 1\n",
    "                    order_nums.append(order_num_)\n",
    "                    #if (order_num == order_num_+1):\n",
    "                    #    num_p_prev = num_p_prev + 1\n",
    "                    if order_dow == order_dow_:\n",
    "                        num_p_dow = num_p_dow + 1\n",
    "                    if order_hour_of_day == order_hour_of_day_:\n",
    "                        num_p_hour = num_p_hour + 1\n",
    "                    if (days_since_prior == days_since_prior_) | \\\n",
    "                    (days_since_prior -1 == days_since_prior_) | \\\n",
    "                    (days_since_prior + 1 == days_since_prior_):\n",
    "                            num_p_since = num_p_since + 1\n",
    "        #print(p, num_orders, num_p, num_p_dow, num_p_hour, num_p_since)\n",
    "        #print(order_nums)\n",
    "        thresh = num_orders * 0.125 # probability\n",
    "        if (num_p >= thresh) | (num_p_dow >= 2) | (num_p_hour >= 2) | (num_p_since >= 2):\n",
    "            #print(\"add it\", p)\n",
    "            plist.append(p)\n",
    "        else:\n",
    "            if order_num - 1 in order_nums:\n",
    "                #print(\"was ordered last time\")\n",
    "                num_conseq = 0\n",
    "                for i in order_nums:\n",
    "                    if i - 1 in order_nums:\n",
    "                        num_conseq = num_conseq + 1\n",
    "                #print('num conseq: ', num_conseq)\n",
    "                if num_conseq >= 2:\n",
    "                    #print(\"add it: \", p)\n",
    "                    plist.append(p)\n",
    "            if order_num - 2 in order_nums:\n",
    "                #print(\"was ordered 2 times ago\")\n",
    "                num_conseq = 0\n",
    "                for i in order_nums:\n",
    "                    if i - 2 in order_nums:\n",
    "                        num_conseq = num_conseq + 1\n",
    "                #print('num conseq2: ', num_conseq)\n",
    "                if num_conseq >= 2:\n",
    "                    #print(\"add it: \", p)\n",
    "                    plist.append(p)\n",
    "              \n",
    "            None #print(\"dont add it\")\n",
    "    return plist"
   ]
  },
  {
   "cell_type": "code",
   "execution_count": null,
   "metadata": {
    "collapsed": false,
    "deletable": true,
    "editable": true
   },
   "outputs": [],
   "source": [
    "#rint(f_test_orders[0])\n",
    "newPredict(f_test_orders[0])"
   ]
  },
  {
   "cell_type": "code",
   "execution_count": null,
   "metadata": {
    "collapsed": true,
    "deletable": true,
    "editable": true
   },
   "outputs": [],
   "source": [
    "from sklearn.preprocessing import StandardScaler  \n",
    "from sklearn.neural_network import MLPClassifier\n",
    "from sklearn.ensemble import RandomForestClassifier\n",
    "from sklearn.datasets import load_iris\n",
    "from sklearn.model_selection import cross_val_score\n",
    "from sklearn.tree import DecisionTreeClassifier\n",
    "from sklearn import preprocessing\n",
    "from sklearn.naive_bayes import GaussianNB\n",
    "\n",
    "# compute the number of times this item has been reordered at the time\n",
    "# of this order_num\n",
    "#\n",
    "def computeProdOrder(user_id):\n",
    "    result = dict()\n",
    "    pcount = dict()\n",
    "    pairs = list()\n",
    "    for o in f_allOrdersOfUser(user_id):\n",
    "        order_num = o[2]\n",
    "        #print(order_num)\n",
    "        for ox in f_allOrderOfOrdersReordered(o[0]):\n",
    "            product_id = ox[1]\n",
    "            if product_id not in pcount:\n",
    "                pcount[product_id] = 0\n",
    "            #print(order_num, product_id)\n",
    "            pairs.append([product_id, order_num])\n",
    "    pairs.sort()\n",
    "    #print(pcount)\n",
    "    for p in pairs:\n",
    "        product_id = p[0]\n",
    "        order_num = p[1]\n",
    "        pcount[product_id] = pcount[product_id] + 1\n",
    "        if not product_id in result:\n",
    "            result[product_id] = dict()\n",
    "        result[product_id][order_num] = pcount[product_id]\n",
    "    #print (result)\n",
    "    return result\n",
    "\n",
    "def numTimesReordered(d, p, o):\n",
    "     if o not in d[p]: \n",
    "         #print ('num times: ', o)\n",
    "         #print (d[p])\n",
    "         klist = d[p].keys()\n",
    "         #klist.sort()\n",
    "         result = 0\n",
    "         for k in klist:\n",
    "             if o > k:\n",
    "                return d[p][k]\n",
    "         return 0\n",
    "     else:\n",
    "        return d[p][o]\n",
    "    \n",
    "def f_trainUser(user_id):\n",
    "    prodOrderNum = computeProdOrder(user_id)\n",
    "    allZ = f_makeFullOrder(user_id)\n",
    "    xall = list()\n",
    "    yall = list()\n",
    "    # find max user_number and number of orders\n",
    "    max_order_num = 0\n",
    "    min_order_num = 1000000  # should use infinity\n",
    "    for z in allZ:\n",
    "        t = orders_info[z[0]][2]\n",
    "        if t > max_order_num:\n",
    "            max_order_num = t\n",
    "        if t < min_order_num:\n",
    "            min_order_num = t\n",
    "    #print(\"min/ax order num: \", min_order_num, max_order_num)\n",
    "    y = list()\n",
    "    y_test = list()\n",
    "    x = list()\n",
    "    x_test = list()\n",
    "    y_test_mypredict = list()\n",
    "    #print(allZ[0])\n",
    "    # for now just use test with last order num orders\n",
    "    for z in allZ:\n",
    "        #print(orders_info[z[0]])\n",
    "        orderNum = orders_info[z[0]][2]\n",
    "        product_id = z[1]\n",
    "        #print(product_id, orderNum)\n",
    "        oneY = z[-1]\n",
    "        #yall.append(z[-1])\n",
    "        #print(orders_info[z[0]])\n",
    "        pct = (1.0 * numTimesReordered(prodOrderNum,product_id, orderNum))/ orderNum\n",
    "        #print(pct, orderNum)\n",
    "        oneX = z[1:-1]+ [pct] + orders_info[z[0]][2:]\n",
    "        #oneX = z[1:]].append(orders_info[z[0]][2:])\n",
    "        #print(orders_info[z[0]][2:])\n",
    "        #oneX = list(map(float, oneX))\n",
    "        product_id = oneX[0]\n",
    "        if orderNum == max_order_num:\n",
    "            x_test.append(oneX)\n",
    "            y_test.append(oneY)\n",
    "            y_test_mypredict.append(predictByUserPrior(user_id, product_id))\n",
    "        else:\n",
    "            x.append(oneX)\n",
    "            y.append(oneY)\n",
    "    #print(x)\n",
    "    #print(x_test)\n",
    "    #print(\"x: \" , x)\n",
    "    x_test, y_test, y_test_predict = finishTestList(user_id, x_test, y_test, y_test_mypredict)\n",
    "    from sklearn.svm import SVC\n",
    "    from sklearn import linear_model\n",
    "    #clf = linear_model.LogisticRegression(C=1e5)\n",
    "    #clf = SVC()    \n",
    "    #clf = DecisionTreeClassifier(random_state=0)\n",
    "    #clf = RandomForestClassifier(max_depth=2, random_state=0)\n",
    "    #lstart = time.time()\n",
    "    clf = MLPClassifier(solver='lbfgs', max_iter=200, \n",
    "                      hidden_layer_sizes=(32, 32), random_state=1)\n",
    "    #clf = GaussianNB()\n",
    "    #print ('template: ', x[0])\n",
    "    if (len(x) ==0):\n",
    "        return None, None, None, None\n",
    "    #print(\"x[0]: \", x[0])\n",
    "    #print(\"an x: \", x)\n",
    "    from sklearn.preprocessing import OneHotEncoder\n",
    "    #print(x)\n",
    "    #print(x_test)\n",
    "    enc = OneHotEncoder(categorical_features = [0, 1, 2, 5, 6]) \n",
    "    #print(enc)\n",
    "    #print (x + x_test)\n",
    "    enc.fit(x + x_test)\n",
    "    #print(x[0])\n",
    "    x_tmpl = list(x[0])\n",
    "    #print('x_tmpl: ', x_tmpl)\n",
    "    tpl = list()\n",
    "    for xti, xt in enumerate(x_test):\n",
    "        tpl.append(x_test[xti])\n",
    "    x = enc.transform(x).toarray()\n",
    "    #print(x)\n",
    "    #print(type(x))\n",
    "    x_test = enc.transform(x_test).toarray()\n",
    "    for xti, xt in enumerate(x_test):\n",
    "        tpl.append(xt)\n",
    "    #print(x.shape, x_test.shape)\n",
    "    #print(x[0])\n",
    "    clf.fit(x, y)\n",
    "    #lend = time.time()\n",
    "    #print('{0} training seconds elapsed time '.format(lend - lstart))\n",
    "    #print (x)\n",
    "    #print (y)\n",
    "    #print(clf.score(x,y))\n",
    "    if True | development:\n",
    "        i = clf.predict(x)\n",
    "        i_test = clf.predict(x_test)\n",
    "        iprob_test = clf.predict_proba(x_test)\n",
    "        #for xti, xt in enumerate(x_test):\n",
    "        #    print('[', int(xt[0]), i_test[xti], iprob_test[xti], ']', end='')\n",
    "        #    print();\n",
    "\n",
    "    #print(i)\n",
    "    from sklearn.metrics import accuracy_score\n",
    "    from sklearn.metrics import f1_score\n",
    "    if True | development :\n",
    "        accuracy = accuracy_score(y, i)\n",
    "        train_accuracy.append(accuracy)\n",
    "        f1 = f1_score(y, i)\n",
    "        train_f1.append(f1)\n",
    "        accuracy_test = accuracy_score(y_test, i_test)\n",
    "        train_accuracy_test.append(accuracy_test)\n",
    "        f1_test =  f1_score(y_test, i_test)\n",
    "        train_f1_test.append(f1_test)\n",
    "        accuracy_mytest = accuracy_score(y_test, y_test_mypredict)\n",
    "        train_accuracy_mytest.append(accuracy_mytest)\n",
    "        f1_mytest =  f1_score(y_test, y_test_mypredict)\n",
    "        train_f1_mytest.append(f1_mytest)\n",
    "        if f1_mytest > f1_test:\n",
    "            f1_blended = f1_mytest\n",
    "            accuracy_blended = accuracy_mytest\n",
    "        else:\n",
    "            f1_blended = f1_test\n",
    "            accuracy_blended = accuracy_test\n",
    "        train_accuracy_blended.append(accuracy_blended)\n",
    "        train_f1_blended.append(f1_blended)\n",
    "        #print('test diff for user: ', user_id)\n",
    "        #for xt in x_test:\n",
    "        #    print (xt)\n",
    "        y_prod = list()\n",
    "        y_prod_test = list()\n",
    "        y_prod_mytest = list()\n",
    "        #print(y_test)\n",
    "        for yti, yt in enumerate(y_test):\n",
    "            if (yt == 1): y_prod.append(int(tpl[yti][0]))\n",
    "        for yti, yt in enumerate(i_test):\n",
    "            if (yt == 1): y_prod_test.append(int(tpl[yti][0]))\n",
    "        for yti, yt in enumerate(y_test_mypredict):\n",
    "            if (yt == 1): y_prod_mytest.append(int(tpl[yti][0]))\n",
    "        y_prod.sort()\n",
    "        y_prod_test.sort()\n",
    "        y_prod_mytest.sort()\n",
    "        print(y_prod)\n",
    "        print(y_prod_test)\n",
    "        print(y_prod_mytest)\n",
    "        print(user_id, \"train accuracy: \" , accuracy_score(y, i), \" f1: \", f1_score(y, i))\n",
    "        print(user_id, \"test accuracy: \" , accuracy_score(y_test, i_test), \" f1: \", f1_score(y_test, i_test))\n",
    "        print(user_id, \"mytest accuracy: \" , accuracy_score(y_test, y_test_mypredict), \n",
    "              \" f1: \", f1_score(y_test, y_test_mypredict))\n",
    "        #print('num samples train: ', len(x))\n",
    "        #print('num samples test: ', len(x_test))\n",
    "    if f1_mytest >= (f1_test * 1.0):\n",
    "        return None, None, None, None\n",
    "    else:\n",
    "        return len(x), clf, x_tmpl, enc # scaler"
   ]
  },
  {
   "cell_type": "code",
   "execution_count": null,
   "metadata": {
    "collapsed": false,
    "deletable": true,
    "editable": true
   },
   "outputs": [],
   "source": [
    "\n",
    "f_trainUser(35)\n",
    "f_trainUser(4)\n",
    "#f_trainUser(35)\n",
    "#f_trainUser(50)\n",
    "print(np.mean(train_accuracy_test))"
   ]
  },
  {
   "cell_type": "code",
   "execution_count": null,
   "metadata": {
    "collapsed": true,
    "deletable": true,
    "editable": true
   },
   "outputs": [],
   "source": [
    "from sklearn.preprocessing import StandardScaler  \n",
    "from sklearn.neural_network import MLPClassifier\n",
    "from sklearn.ensemble import RandomForestClassifier\n",
    "from sklearn.datasets import load_iris\n",
    "from sklearn.model_selection import cross_val_score\n",
    "from sklearn.tree import DecisionTreeClassifier\n",
    "from sklearn import preprocessing\n",
    "from sklearn.naive_bayes import GaussianNB\n",
    "\n",
    "# compute the number of times this item has been reordered at the time\n",
    "# of this order_num\n",
    "#\n",
    "     \n",
    "    \n",
    "def f_new_trainUser(user_id):\n",
    "    prodOrderNum = computeProdOrder(user_id)\n",
    "    allZ = f_makeFullOrder(user_id)\n",
    "    xall = list()\n",
    "    yall = list()\n",
    "    # find max user_number and number of orders\n",
    "    max_order_num = 0\n",
    "    min_order_num = 1000000  # should use infinity\n",
    "    for z in allZ:\n",
    "        t = orders_info[z[0]][2]\n",
    "        if t > max_order_num:\n",
    "            max_order_num = t\n",
    "        if t < min_order_num:\n",
    "            min_order_num = t\n",
    "    #print(\"min/ax order num: \", min_order_num, max_order_num)\n",
    "    y = list()\n",
    "    y_test = list()\n",
    "    x = list()\n",
    "    x_test = list()\n",
    "    y_test_mypredict = list()\n",
    "    #print(allZ[0])\n",
    "    # for now just use test with last order num orders\n",
    "    for z in allZ:\n",
    "        #print(orders_info[z[0]])\n",
    "        orderNum = orders_info[z[0]][2]\n",
    "        product_id = z[1]\n",
    "        #print(product_id, orderNum)\n",
    "        oneY = z[-1]\n",
    "        #yall.append(z[-1])\n",
    "        #print(orders_info[z[0]])\n",
    "        pct = (1.0 * numTimesReordered(prodOrderNum,product_id, orderNum))/ orderNum\n",
    "        #print(pct, orderNum)\n",
    "        oneX = z[1:-1]+ [pct] + orders_info[z[0]][2:]\n",
    "        #oneX = z[1:]].append(orders_info[z[0]][2:])\n",
    "        #print(orders_info[z[0]][2:])\n",
    "        #oneX = list(map(float, oneX))\n",
    "        product_id = oneX[0]\n",
    "        if orderNum == max_order_num:\n",
    "            x_test.append(oneX)\n",
    "            y_test.append(oneY)\n",
    "            y_test_mypredict.append(predictByUserPrior(user_id, product_id))\n",
    "        else:\n",
    "            x.append(oneX)\n",
    "            y.append(oneY)\n",
    "    #print(x)\n",
    "    #print(x_test)\n",
    "    #print(\"x: \" , x)\n",
    "    x_test, y_test, y_test_predict = finishTestList(user_id, x_test, y_test, y_test_mypredict)\n",
    "    from sklearn.svm import SVC\n",
    "    from sklearn import linear_model\n",
    "    #clf = linear_model.LogisticRegression(C=1e5)\n",
    "    #clf = SVC()    \n",
    "    #clf = DecisionTreeClassifier(random_state=0)\n",
    "    #clf = RandomForestClassifier(max_depth=2, random_state=0)\n",
    "    #lstart = time.time()\n",
    "    clf = MLPClassifier(solver='lbfgs', max_iter=200, \n",
    "                      hidden_layer_sizes=(32, 32), random_state=1)\n",
    "    #clf = GaussianNB()\n",
    "    #print ('template: ', x[0])\n",
    "    if (len(x) ==0):\n",
    "        return None, None, None, None\n",
    "    #print(\"x[0]: \", x[0])\n",
    "    #print(\"an x: \", x)\n",
    "    from sklearn.preprocessing import OneHotEncoder\n",
    "    #print(x)\n",
    "    #print(x_test)\n",
    "    enc = OneHotEncoder(categorical_features = [0, 1, 2, 5, 6]) \n",
    "    #print(enc)\n",
    "    #print (x + x_test)\n",
    "    enc.fit(x + x_test)\n",
    "    #print(x[0])\n",
    "    x_tmpl = list(x[0])\n",
    "    #print('x_tmpl: ', x_tmpl)\n",
    "    tpl = list()\n",
    "    for xti, xt in enumerate(x_test):\n",
    "        tpl.append(x_test[xti])\n",
    "    x = enc.transform(x).toarray()\n",
    "    #print(x)\n",
    "    #print(type(x))\n",
    "    x_test = enc.transform(x_test).toarray()\n",
    "    for xti, xt in enumerate(x_test):\n",
    "        tpl.append(xt)\n",
    "    #print(x.shape, x_test.shape)\n",
    "    #print(x[0])\n",
    "    clf.fit(x, y)\n",
    "    #lend = time.time()\n",
    "    #print('{0} training seconds elapsed time '.format(lend - lstart))\n",
    "    #print (x)\n",
    "    #print (y)\n",
    "    #print(clf.score(x,y))\n",
    "    if True | development:\n",
    "        i = clf.predict(x)\n",
    "        i_test = clf.predict(x_test)\n",
    "        iprob_test = clf.predict_proba(x_test)\n",
    "        #for xti, xt in enumerate(x_test):\n",
    "        #    print('[', int(xt[0]), i_test[xti], iprob_test[xti], ']', end='')\n",
    "        #    print();\n",
    "\n",
    "    #print(i)\n",
    "    from sklearn.metrics import accuracy_score\n",
    "    from sklearn.metrics import f1_score\n",
    "    if True | development :\n",
    "        accuracy = accuracy_score(y, i)\n",
    "        train_accuracy.append(accuracy)\n",
    "        f1 = f1_score(y, i)\n",
    "        train_f1.append(f1)\n",
    "        accuracy_test = accuracy_score(y_test, i_test)\n",
    "        train_accuracy_test.append(accuracy_test)\n",
    "        f1_test =  f1_score(y_test, i_test)\n",
    "        train_f1_test.append(f1_test)\n",
    "        accuracy_mytest = accuracy_score(y_test, y_test_mypredict)\n",
    "        train_accuracy_mytest.append(accuracy_mytest)\n",
    "        f1_mytest =  f1_score(y_test, y_test_mypredict)\n",
    "        train_f1_mytest.append(f1_mytest)\n",
    "        if f1_mytest > f1_test:\n",
    "            f1_blended = f1_mytest\n",
    "            accuracy_blended = accuracy_mytest\n",
    "        else:\n",
    "            f1_blended = f1_test\n",
    "            accuracy_blended = accuracy_test\n",
    "        train_accuracy_blended.append(accuracy_blended)\n",
    "        train_f1_blended.append(f1_blended)\n",
    "        #print('test diff for user: ', user_id)\n",
    "        #for xt in x_test:\n",
    "        #    print (xt)\n",
    "        y_prod = list()\n",
    "        y_prod_test = list()\n",
    "        y_prod_mytest = list()\n",
    "        #print(y_test)\n",
    "        for yti, yt in enumerate(y_test):\n",
    "            if (yt == 1): y_prod.append(int(tpl[yti][0]))\n",
    "        for yti, yt in enumerate(i_test):\n",
    "            if (yt == 1): y_prod_test.append(int(tpl[yti][0]))\n",
    "        for yti, yt in enumerate(y_test_mypredict):\n",
    "            if (yt == 1): y_prod_mytest.append(int(tpl[yti][0]))\n",
    "        y_prod.sort()\n",
    "        y_prod_test.sort()\n",
    "        y_prod_mytest.sort()\n",
    "        print(y_prod)\n",
    "        print(y_prod_test)\n",
    "        print(y_prod_mytest)\n",
    "        print(user_id, \"train accuracy: \" , accuracy_score(y, i), \" f1: \", f1_score(y, i))\n",
    "        print(user_id, \"test accuracy: \" , accuracy_score(y_test, i_test), \" f1: \", f1_score(y_test, i_test))\n",
    "        print(user_id, \"mytest accuracy: \" , accuracy_score(y_test, y_test_mypredict), \n",
    "              \" f1: \", f1_score(y_test, y_test_mypredict))\n",
    "        #print('num samples train: ', len(x))\n",
    "        #print('num samples test: ', len(x_test))\n",
    "    if f1_mytest >= (f1_test * 1.0):\n",
    "        return None, None, None, None\n",
    "    else:\n",
    "        return len(x), clf, x_tmpl, enc # scaler"
   ]
  },
  {
   "cell_type": "code",
   "execution_count": null,
   "metadata": {
    "collapsed": true,
    "deletable": true,
    "editable": true
   },
   "outputs": [],
   "source": [
    "def trainAllUser(f, row_first, num_rows, do_all=False):\n",
    "    row_last = row_first + num_rows - 1\n",
    "    row_num = -1\n",
    "    t = test_orders.sort_values('order_id')\n",
    "    correct_answer = 0.0\n",
    "    total_answer = 0.0\n",
    "    for index, row in t.iterrows():\n",
    "        row_num = row_num + 1\n",
    "        order_id = row['order_id']\n",
    "        if (row_num < row_first) | (row_num > row_last):\n",
    "            continue\n",
    "        user_id = row['user_id']\n",
    "        #print ('training user: ', user_id)\n",
    "        x, clf, onepd = trainUser(user_id)\n",
    "        #print(x)\n",
    "        t1 = test_order[test_order.order_id == order_id]\n",
    "        #display(row)\n",
    "        #display(onepd)\n",
    "        #display(t1)\n",
    "        t1 = t1[t1.reordered==1]\n",
    "        for index1, row1 in t1.iterrows():\n",
    "            #print(\"row1\")\n",
    "            #display(row1)\n",
    "            onepd['product_id'] = row1['product_id']\n",
    "            #display(onepd)\n",
    "            one = onepd.as_matrix().astype(float)\n",
    "            #print(one)\n",
    "            total_answer = total_answer + 1.0\n",
    "            i = clf.predict([one])\n",
    "            if i[0] == 1:\n",
    "                correct_answer = correct_answer + 1.0\n",
    "            #print(i)\n",
    "            \n",
    "        \"\"\"\n",
    "        p = allProductsUser(user_id)\n",
    "        #print(p)\n",
    "        #display(onepd)\n",
    "        plist = list()\n",
    "        for pi in p:\n",
    "            onepd['product_id'] = pi\n",
    "            one = onepd.as_matrix().astype(float)\n",
    "            #print(one)\n",
    "            i = clf.predict([one])\n",
    "            if i[0] == 1:\n",
    "                plist.append(pi)\n",
    "        f.write('{0}, '.format(order_id))\n",
    "        if plist == list():\n",
    "            f.write('{0}'.format('None'))\n",
    "        else:\n",
    "            for i in plist:\n",
    "                f.write('{0} '.format(i))\n",
    "        f.write('\\n')\n",
    "        \"\"\"\n",
    "    print(\"percentage correct: \", correct_answer / total_answer)    "
   ]
  },
  {
   "cell_type": "code",
   "execution_count": null,
   "metadata": {
    "collapsed": true,
    "deletable": true,
    "editable": true
   },
   "outputs": [],
   "source": [
    "def f_makeSubmission(f, row_first, num_rows, do_all=False):\n",
    "    resetStats()\n",
    "    row_last = row_first + num_rows - 1\n",
    "    row_num = -1\n",
    "    #time_for_submissions = 0.0\n",
    "    #num_submissions = 0\n",
    "    num_simple = 0\n",
    "    num_not_simple = 0\n",
    "    for x in f_test_orders:\n",
    "        #stime_begin = time.time()\n",
    "        row_num = row_num + 1\n",
    "        if (row_num < row_first) | (row_num > row_last):\n",
    "            if do_all:\n",
    "               None\n",
    "            continue\n",
    "        order_id = x[0]\n",
    "        user_id = x[1]\n",
    "        p = allProductsUser(user_id)\n",
    "        plist = list()\n",
    "        if len(p) > 0:\n",
    "            #ttime_begin = time.time()\n",
    "            x, clf, x_tmpl, enc = f_trainUser(user_id)\n",
    "            if clf == None:\n",
    "                print('using simple predict')\n",
    "                num_simple = num_simple + 1\n",
    "                f.write('{0}, '.format(order_id))\n",
    "                wrote_some=False\n",
    "                for i in productProbabilityOfUser[user_id]:\n",
    "                    if productProbabilityOfUser[user_id][i] >= 0.25:\n",
    "                        f.write('{0} '.format(i))\n",
    "                        wrote_some = True\n",
    "                if not wrote_some:\n",
    "                    f.write('None')\n",
    "                f.write('\\n')\n",
    "                continue\n",
    "            print('not using simple predict')\n",
    "            num_not_simple = num_not_simple + 1\n",
    "            #ttime_end = time.time()\n",
    "            #print(\" seconds to train user: \", ttime_end - ttime_begin)\n",
    "            for pi in p:\n",
    "                tmpl = list(x_tmpl)\n",
    "                tmpl[0] = pi\n",
    "                ploc = f_products[pi]\n",
    "                tmpl[1] = ploc[0]\n",
    "                tmpl[2] = ploc[1]\n",
    "                tmpl = enc.transform(tmpl).toarray()\n",
    "                #i = clf.predict(scaler.transform([tmpl]))\n",
    "                i = clf.predict(tmpl)\n",
    "                if i[0] == 1:\n",
    "                    plist.append(pi)\n",
    "                    #print(\"about to add: \", tmpl)\n",
    "        f.write('{0}, '.format(order_id))\n",
    "        if plist == list():\n",
    "            f.write('{0}'.format('None'))\n",
    "        else:\n",
    "            for i in plist:\n",
    "                f.write('{0} '.format(i))\n",
    "        f.write('\\n')\n",
    "    print('train accuracy: ', np.mean(train_accuracy))\n",
    "    print('train f1: ', np.mean(train_f1))\n",
    "    print(\"test accuracy: \", np.mean(train_accuracy_test))\n",
    "    print(\"test f1: \", np.mean(train_f1_test))\n",
    "    print(\"mytest accuracy: \", np.mean(train_accuracy_mytest))\n",
    "    print(\"mytest f1: \", np.mean(train_f1_mytest))\n",
    "    print(\"blended accuracy: \", np.mean(train_accuracy_blended))\n",
    "    print(\"blended f1: \", np.mean(train_f1_blended))\n",
    "    print(\"percent simple: \", (num_simple * 1.0)/(num_simple + num_not_simple))\n",
    "#        stime_end = time.time()\n",
    "#       print(\" seconds to do submission: \", stime_end - stime_begin)\n",
    "#      num_submissions = num_submissions + 1\n",
    "#        time_for_submissions = time_for_submissions + (stime_end - stime_begin)\n",
    "#    print(\"average submission time: \" , time_for_submissions / num_submissions)\n",
    "#   print(\"total submissions time: \", time_for_submissions, num_submissions)"
   ]
  },
  {
   "cell_type": "code",
   "execution_count": null,
   "metadata": {
    "collapsed": true,
    "deletable": true,
    "editable": true
   },
   "outputs": [],
   "source": [
    "import time\n",
    "import sys\n",
    "def makeAllSubmission() :\n",
    "    with open('submissionall.csv', 'w') as f:\n",
    "        f.write('order_id,products\\n')\n",
    "        element=0\n",
    "        for t in f_test_orders:\n",
    "            user_id = orders_user_id(t)\n",
    "            order_id = orders_order_id(t)\n",
    "             #print(\"order: \", order_id)\n",
    "            p = productsOfUser[user_id]\n",
    "            plist = list(p)\n",
    "            f.write('{0}, '.format(order_id))\n",
    "            for i in plist:\n",
    "                f.write('{0} '.format(i))\n",
    "            f.write('\\n')\n",
    "\n",
    "\n"
   ]
  },
  {
   "cell_type": "code",
   "execution_count": null,
   "metadata": {
    "collapsed": true,
    "deletable": true,
    "editable": true
   },
   "outputs": [],
   "source": [
    "import time\n",
    "import sys\n",
    "def makeAllHighPrioritySubmission() :\n",
    "    with open('submissionhighall.csv', 'w') as f:\n",
    "        f.write('order_id,products\\n')\n",
    "        element=0\n",
    "        for t in f_test_orders:\n",
    "            user_id = orders_user_id(t)\n",
    "            order_id = orders_order_id(t)\n",
    "             #print(\"order: \", order_id)\n",
    "            f.write('{0}, '.format(order_id))\n",
    "            wrote_some=False\n",
    "            plist = list()\n",
    "            for i in productProbabilityOfUser[user_id]:\n",
    "                if productProbabilityOfUser[user_id][i] >= 0.250:\n",
    "                    plist.append(i)\n",
    "            plist.sort(reverse=True)\n",
    "            average = average_num_reorders_per[user_id]\n",
    "            num = 0\n",
    "            for i in plist:\n",
    "                if (num > average):\n",
    "                    break\n",
    "                f.write('{0} '.format(i))\n",
    "                #print('{0} '.format(i))\n",
    "                wrote_some = True\n",
    "            if not wrote_some:\n",
    "                f.write('None')\n",
    "            f.write('\\n')\n",
    "\n"
   ]
  },
  {
   "cell_type": "code",
   "execution_count": null,
   "metadata": {
    "collapsed": true,
    "deletable": true,
    "editable": true
   },
   "outputs": [],
   "source": [
    "makeAllHighPrioritySubmission()"
   ]
  },
  {
   "cell_type": "code",
   "execution_count": null,
   "metadata": {
    "collapsed": true,
    "deletable": true,
    "editable": true
   },
   "outputs": [],
   "source": [
    "import time\n",
    "import sys\n",
    "def makeAllNewSubmission() :\n",
    "    with open('submissionnewall.csv', 'w') as f:\n",
    "        f.write('order_id,products\\n')\n",
    "        element=0\n",
    "        for t in f_test_orders:\n",
    "            user_id = orders_user_id(t)\n",
    "            order_id = orders_order_id(t)\n",
    "            import time\n",
    "            l = newPredict(t)\n",
    "             #print(\"order: \", order_id)\n",
    "            f.write('{0}, '.format(order_id))\n",
    "            if len(l) != 0:\n",
    "                for p in l:\n",
    "                    f.write('{0} '.format(p))\n",
    "                    wrote_some = True\n",
    "            else:\n",
    "                f.write('None')\n",
    "            f.write('\\n')\n",
    "\n",
    "\n"
   ]
  },
  {
   "cell_type": "code",
   "execution_count": null,
   "metadata": {
    "collapsed": true,
    "deletable": true,
    "editable": true
   },
   "outputs": [],
   "source": [
    "makeAllNewSubmission()"
   ]
  },
  {
   "cell_type": "code",
   "execution_count": null,
   "metadata": {
    "collapsed": true,
    "deletable": true,
    "editable": true,
    "scrolled": true
   },
   "outputs": [],
   "source": [
    "if not development:\n",
    "    makeAllSubmission()"
   ]
  },
  {
   "cell_type": "code",
   "execution_count": null,
   "metadata": {
    "collapsed": true,
    "deletable": true,
    "editable": true
   },
   "outputs": [],
   "source": [
    "def makeNullSubmission() :\n",
    "    with open('submissionnull.csv', 'w') as f:\n",
    "        f.write('order_id,products\\n')\n",
    "        t = test_orders.sort_values('order_id')\n",
    "        for index, row in t.iterrows():\n",
    "            f.write('{0}, {1}\\n'.format(row['order_id'], 'None'))"
   ]
  },
  {
   "cell_type": "code",
   "execution_count": null,
   "metadata": {
    "collapsed": true,
    "deletable": true,
    "editable": true
   },
   "outputs": [],
   "source": [
    "if not development:\n",
    "    makeNullSubmission()"
   ]
  },
  {
   "cell_type": "code",
   "execution_count": null,
   "metadata": {
    "collapsed": false,
    "deletable": true,
    "editable": true
   },
   "outputs": [],
   "source": [
    "print (enable_randomList)\n",
    "enable_randomList = False\n",
    "print (enable_randomList)"
   ]
  },
  {
   "cell_type": "code",
   "execution_count": null,
   "metadata": {
    "collapsed": false,
    "deletable": true,
    "editable": true,
    "scrolled": true
   },
   "outputs": [],
   "source": [
    "import time\n",
    "import sys\n",
    "start = time.time()\n",
    "if not development:\n",
    "    f_makeSubmission(sys.stdout, 0, 100)\n",
    "    \n",
    "    #with open('submissionbig.csv', 'w') as f:\n",
    "    #    f.write('order_id,products\\n')\n",
    "    #    f_makeSubmission(f, 0, 100000, True)\n",
    "else:\n",
    "    None #trainAllUser(sys.stdout, 0, 50)\n",
    "end = time.time()\n",
    "print(end - start)"
   ]
  },
  {
   "cell_type": "code",
   "execution_count": null,
   "metadata": {
    "collapsed": false,
    "deletable": true,
    "editable": true
   },
   "outputs": [],
   "source": [
    "f_test_orders[0]"
   ]
  },
  {
   "cell_type": "code",
   "execution_count": null,
   "metadata": {
    "collapsed": false,
    "deletable": true,
    "editable": true
   },
   "outputs": [],
   "source": [
    "2**100/2**9"
   ]
  },
  {
   "cell_type": "code",
   "execution_count": null,
   "metadata": {
    "collapsed": false,
    "deletable": true,
    "editable": true
   },
   "outputs": [],
   "source": [
    "f_test_orders[1]"
   ]
  },
  {
   "cell_type": "code",
   "execution_count": null,
   "metadata": {
    "collapsed": false,
    "deletable": true,
    "editable": true
   },
   "outputs": [],
   "source": [
    "f_train_orders[0]"
   ]
  },
  {
   "cell_type": "code",
   "execution_count": null,
   "metadata": {
    "collapsed": false,
    "deletable": true,
    "editable": true
   },
   "outputs": [],
   "source": [
    "display(orders[orders.user_id==3])"
   ]
  },
  {
   "cell_type": "code",
   "execution_count": null,
   "metadata": {
    "collapsed": false,
    "deletable": true,
    "editable": true
   },
   "outputs": [],
   "source": [
    "display(order_prior[order_prior.order_id==444309])"
   ]
  },
  {
   "cell_type": "code",
   "execution_count": null,
   "metadata": {
    "collapsed": false,
    "deletable": true,
    "editable": true
   },
   "outputs": [],
   "source": [
    "f_products[35469]"
   ]
  },
  {
   "cell_type": "code",
   "execution_count": null,
   "metadata": {
    "collapsed": false,
    "deletable": true,
    "editable": true
   },
   "outputs": [],
   "source": [
    "x = None\n",
    "if x == None: print('yes')"
   ]
  },
  {
   "cell_type": "code",
   "execution_count": null,
   "metadata": {
    "collapsed": false,
    "deletable": true,
    "editable": true
   },
   "outputs": [],
   "source": [
    "f_orders[2774568]\n"
   ]
  },
  {
   "cell_type": "code",
   "execution_count": null,
   "metadata": {
    "collapsed": false,
    "deletable": true,
    "editable": true
   },
   "outputs": [],
   "source": [
    "f_orders"
   ]
  },
  {
   "cell_type": "code",
   "execution_count": null,
   "metadata": {
    "collapsed": false,
    "deletable": true,
    "editable": true
   },
   "outputs": [],
   "source": [
    "f_test_orders"
   ]
  },
  {
   "cell_type": "code",
   "execution_count": null,
   "metadata": {
    "collapsed": true,
    "deletable": true,
    "editable": true
   },
   "outputs": [],
   "source": []
  }
 ],
 "metadata": {
  "kernelspec": {
   "display_name": "Python 2",
   "language": "python",
   "name": "python2"
  },
  "language_info": {
   "codemirror_mode": {
    "name": "ipython",
    "version": 2
   },
   "file_extension": ".py",
   "mimetype": "text/x-python",
   "name": "python",
   "nbconvert_exporter": "python",
   "pygments_lexer": "ipython2",
   "version": "2.7.13"
  }
 },
 "nbformat": 4,
 "nbformat_minor": 2
}
